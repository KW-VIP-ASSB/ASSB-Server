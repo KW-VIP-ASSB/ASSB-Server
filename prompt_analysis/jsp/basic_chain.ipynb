{
 "cells": [
  {
   "cell_type": "code",
   "execution_count": 2,
   "metadata": {},
   "outputs": [],
   "source": [
    "import os\n",
    "from dotenv import load_dotenv\n",
    "from openai import OpenAI\n",
    "from langchain_core.output_parsers import JsonOutputParser\n",
    "from langchain_openai import ChatOpenAI\n",
    "from langchain_core import exceptions\n",
    "from langchain.globals import set_llm_cache\n",
    "from langchain.cache import SQLiteCache\n",
    "from langchain_core.prompts import ChatPromptTemplate\n",
    "from langsmith import traceable\n",
    "\n",
    "from logging import getLogger\n",
    "\n",
    "logger = getLogger(__name__)\n",
    "\n",
    "load_dotenv()\n",
    "\n",
    "OPENAI_API_KEY = os.getenv(\"OPENAI_API_KEY\")\n",
    "\n",
    "set_llm_cache(SQLiteCache(database_path=\".langchain.db\"))\n",
    "\n",
    "client = OpenAI(api_key=OPENAI_API_KEY, max_retries=5, timeout=60)\n",
    "\n",
    "llm = ChatOpenAI(\n",
    "    seed=311, temperature=1.0, model=\"gpt-4o-mini\", openai_api_key=OPENAI_API_KEY, model_kwargs= {\"response_format\": {\"type\": \"json_object\"}})\n",
    "\n",
    "prompt = ChatPromptTemplate.from_messages(\n",
    "    [\n",
    "        (\n",
    "            \"system\",\n",
    "            \"\"\"\n",
    "                당신은 여행지를 추천해주는 ai입니다. 사용자가 지역을 얘기하면 지역에 맞는 여행지를 추천하세요.\n",
    "                답변은 json형식으로 답변하시오\n",
    "\n",
    "                예시) {{\n",
    "                    \"지역\": [ \"추천지1\", \"추천지2\" ]\n",
    "                }}\n",
    "            \n",
    "            \"\"\",\n",
    "        ),\n",
    "        (\"human\", \"지역: {loc}\"),\n",
    "    ]\n",
    ")\n",
    "\n",
    "\n",
    "chunk_chain = prompt | llm | JsonOutputParser()\n",
    "\n",
    "\n",
    "\n",
    "@traceable\n",
    "async def excute(loc):\n",
    "    try:\n",
    "        result = chunk_chain.invoke({\"loc\": loc})\n",
    "\n",
    "        return result\n",
    "\n",
    "    except exceptions.LangChainException as e:\n",
    "        logger.error(f\"LangChain Error: {str(e)}\")\n",
    "        raise e\n",
    "\n",
    "\n",
    "\n"
   ]
  },
  {
   "cell_type": "code",
   "execution_count": 3,
   "metadata": {},
   "outputs": [
    {
     "data": {
      "text/plain": [
       "[{'서울': ['경복궁', '남산타워', '홍대', '이태원', '북촌 한옥마을']},\n",
       " {'부산': ['해운대 해수욕장', '광안리 해수욕장', '부산 타워', '자갈치 시장', '범어사']},\n",
       " {'대전': ['한밭수목원', '대전오월드', '유림공원', '갑천', '대전 국립과학관']}]"
      ]
     },
     "execution_count": 3,
     "metadata": {},
     "output_type": "execute_result"
    }
   ],
   "source": [
    "import asyncio\n",
    "\n",
    "\n",
    "\n",
    "tasks = []\n",
    "locs = [\"서울\", \"부산\", \"대전\"]\n",
    "for loc in locs:\n",
    "    tasks.append(excute(loc))\n",
    "\n",
    "travel_loc = await asyncio.gather(*tasks)\n",
    "travel_loc"
   ]
  }
 ],
 "metadata": {
  "kernelspec": {
   "display_name": "fastenv",
   "language": "python",
   "name": "python3"
  },
  "language_info": {
   "codemirror_mode": {
    "name": "ipython",
    "version": 3
   },
   "file_extension": ".py",
   "mimetype": "text/x-python",
   "name": "python",
   "nbconvert_exporter": "python",
   "pygments_lexer": "ipython3",
   "version": "3.12.3"
  }
 },
 "nbformat": 4,
 "nbformat_minor": 2
}
